{
  "nbformat": 4,
  "nbformat_minor": 0,
  "metadata": {
    "colab": {
      "provenance": [],
      "collapsed_sections": [],
      "toc_visible": true
    },
    "kernelspec": {
      "name": "python3",
      "display_name": "Python 3"
    },
    "language_info": {
      "name": "python"
    }
  },
  "cells": [
    {
      "cell_type": "markdown",
      "source": [
        "# 车牌识别\n",
        "> by dkymore 22.9.27\n",
        ">\n",
        "> ref by [easypr](https://github.com/liuruoze/EasyPR) \n",
        "\n",
        "## 需求识别\n",
        "\n",
        "需要车牌识别 常见方法\n",
        "- 纯人工智能 定位+识别 [marks-rcnn](https://github.com/matterport/Mask_RCNN)\n",
        "- 文字识别+ANN判断 [MSER](https://ieeexplore.ieee.org/abstract/document/7333797) [2](https://www.cnblogs.com/subconscious/p/5637735.html)\n",
        "- 原生的 图像处理+字符识别 [link](https://www.cnblogs.com/subconscious/p/4013591.html)\n",
        "\n",
        "## 确定流程\n",
        "![img](https://i.postimg.cc/T3gnhmRQ/plan.jpg)\n",
        "\n",
        "\n",
        "\n",
        "## 选择框架\n",
        "\n",
        "使用 python \n",
        "- opencv\n",
        "- numpy\n",
        "- matplotlib\n",
        "- tensorflow\n",
        "\n"
      ],
      "metadata": {
        "id": "2gMF5_c3mXMa"
      }
    }
  ]
}